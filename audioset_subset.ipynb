{
 "cells": [
  {
   "cell_type": "code",
   "execution_count": 1,
   "id": "6f770b76",
   "metadata": {},
   "outputs": [],
   "source": [
    "import csv\n",
    "import json\n",
    "import pathlib\n",
    "\n",
    "import networkx as nx"
   ]
  },
  {
   "cell_type": "code",
   "execution_count": 2,
   "id": "dfa86444",
   "metadata": {},
   "outputs": [],
   "source": [
    "with open('audioset/ontology.json') as f:\n",
    "    ontology = json.load(f)\n",
    "\n",
    "g = nx.DiGraph()\n",
    "for node in ontology:\n",
    "    for child_id in node['child_ids']:\n",
    "        g.add_edge(node['id'], child_id)\n",
    "\n",
    "kgid_to_node = {node['id']: node for node in ontology}\n",
    "kgid_to_name = {node['id']: node['name'] for node in ontology}"
   ]
  },
  {
   "cell_type": "code",
   "execution_count": 3,
   "id": "bbc73411",
   "metadata": {},
   "outputs": [
    {
     "data": {
      "text/plain": [
       "{'/m/04szw': 'Musical instrument',\n",
       " '/m/0fx80y': 'Plucked string instrument',\n",
       " '/m/05r5wn': 'Rattle (instrument)',\n",
       " '/m/01kcd': 'Brass instrument',\n",
       " '/m/0l14_3': 'Bowed string instrument',\n",
       " '/m/085jw': 'Wind instrument, woodwind instrument',\n",
       " '/m/01vj9c': 'Bass (instrument role)'}"
      ]
     },
     "execution_count": 3,
     "metadata": {},
     "output_type": "execute_result"
    }
   ],
   "source": [
    "{node['id']: node['name'] for node in ontology if 'instrument' in node['name'].lower()}"
   ]
  },
  {
   "cell_type": "code",
   "execution_count": 4,
   "id": "9eeccc41",
   "metadata": {},
   "outputs": [
    {
     "data": {
      "text/plain": [
       "{'/m/09l8g': 'Human voice'}"
      ]
     },
     "execution_count": 4,
     "metadata": {},
     "output_type": "execute_result"
    }
   ],
   "source": [
    "{node['id']: node['name'] for node in ontology if 'voice' in node['name'].lower()}"
   ]
  },
  {
   "cell_type": "code",
   "execution_count": 5,
   "id": "50252b8c",
   "metadata": {},
   "outputs": [
    {
     "data": {
      "text/plain": [
       "{'/m/09x0r': 'Speech',\n",
       " '/m/05zppz': 'Male speech, man speaking',\n",
       " '/m/02zsn': 'Female speech, woman speaking',\n",
       " '/m/0ytgt': 'Child speech, kid speaking',\n",
       " '/m/0brhx': 'Speech synthesizer',\n",
       " '/m/07qfr4h': 'Hubbub, speech noise, speech babble'}"
      ]
     },
     "execution_count": 5,
     "metadata": {},
     "output_type": "execute_result"
    }
   ],
   "source": [
    "{node['id']: node['name'] for node in ontology if 'speech' in node['name'].lower()}"
   ]
  },
  {
   "cell_type": "code",
   "execution_count": 6,
   "id": "4f8af267",
   "metadata": {},
   "outputs": [
    {
     "data": {
      "text/plain": [
       "{'/m/015lz1': 'Singing',\n",
       " '/t/dd00003': 'Male singing',\n",
       " '/t/dd00004': 'Female singing',\n",
       " '/t/dd00005': 'Child singing',\n",
       " '/t/dd00006': 'Synthetic singing',\n",
       " '/m/0l14t7': 'Singing bowl'}"
      ]
     },
     "execution_count": 6,
     "metadata": {},
     "output_type": "execute_result"
    }
   ],
   "source": [
    "{node['id']: node['name'] for node in ontology if 'singing' in node['name'].lower()}"
   ]
  },
  {
   "cell_type": "code",
   "execution_count": 7,
   "id": "7f598f5c",
   "metadata": {},
   "outputs": [],
   "source": [
    "subsets = {\n",
    "    'instruments': '/m/04szw',\n",
    "    'voice': '/m/09l8g',\n",
    "    'speech': '/m/09x0r',\n",
    "    'singing': '/m/015lz1',\n",
    "}"
   ]
  },
  {
   "cell_type": "code",
   "execution_count": 8,
   "id": "2c0db024",
   "metadata": {},
   "outputs": [
    {
     "name": "stdout",
     "output_type": "stream",
     "text": [
      "instruments/balanced_train: 3412 / 22160\n",
      "instruments/eval: 3294 / 20371\n",
      "instruments/unbalanced_train: 216834 / 2041789\n",
      "\n",
      "voice/balanced_train: 7210 / 22160\n",
      "voice/eval: 6638 / 20371\n",
      "voice/unbalanced_train: 1075362 / 2041789\n",
      "\n",
      "speech/balanced_train: 484 / 22160\n",
      "speech/eval: 527 / 20371\n",
      "speech/unbalanced_train: 42432 / 2041789\n",
      "\n",
      "singing/balanced_train: 484 / 22160\n",
      "singing/eval: 497 / 20371\n",
      "singing/unbalanced_train: 32542 / 2041789\n",
      "\n"
     ]
    }
   ],
   "source": [
    "FIELDNAMES = ['YTID', 'start_seconds', 'end_seconds', 'positive_labels']\n",
    "\n",
    "for subset_name, subset_kgid in subsets.items():\n",
    "    kgid_subset = nx.descendants(g, subset_kgid)\n",
    "\n",
    "    out_dir = pathlib.Path(f'audioset_{subset_name}')\n",
    "    out_dir.mkdir(exist_ok=True)\n",
    "\n",
    "    for split in ['balanced_train', 'eval', 'unbalanced_train']:\n",
    "        with open(f'audioset/{split}_segments.csv') as f:\n",
    "            examples = list(csv.DictReader(\n",
    "                (line for line in f if not line.startswith('#')),\n",
    "                fieldnames=FIELDNAMES,\n",
    "                skipinitialspace=True))\n",
    "\n",
    "        example_subset = [\n",
    "            example for example in examples\n",
    "            if any(kgid in kgid_subset for kgid in example['positive_labels'].split(','))\n",
    "        ]\n",
    "        print('{}/{}: {} / {}'.format(subset_name, split, len(example_subset), len(examples)))\n",
    "\n",
    "        with open(out_dir / f'{split}_segments.csv', 'w') as f:\n",
    "            writer = csv.DictWriter(f, fieldnames=FIELDNAMES)\n",
    "            writer.writerows(example_subset)\n",
    "\n",
    "    print()"
   ]
  },
  {
   "cell_type": "code",
   "execution_count": null,
   "id": "3b2a5400",
   "metadata": {},
   "outputs": [],
   "source": []
  }
 ],
 "metadata": {
  "kernelspec": {
   "display_name": "Python 3 (ipykernel)",
   "language": "python",
   "name": "python3"
  },
  "language_info": {
   "codemirror_mode": {
    "name": "ipython",
    "version": 3
   },
   "file_extension": ".py",
   "mimetype": "text/x-python",
   "name": "python",
   "nbconvert_exporter": "python",
   "pygments_lexer": "ipython3",
   "version": "3.8.10"
  }
 },
 "nbformat": 4,
 "nbformat_minor": 5
}
